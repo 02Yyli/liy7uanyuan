{
 "cells": [
  {
   "cell_type": "code",
   "execution_count": 13,
   "metadata": {},
   "outputs": [],
   "source": [
    "import mytools"
   ]
  },
  {
   "cell_type": "code",
   "execution_count": 14,
   "metadata": {},
   "outputs": [
    {
     "data": {
      "text/plain": [
       "'弱相关'"
      ]
     },
     "execution_count": 14,
     "metadata": {},
     "output_type": "execute_result"
    }
   ],
   "source": [
    "mytools.相关系数判断(0.2056)"
   ]
  },
  {
   "cell_type": "code",
   "execution_count": 15,
   "metadata": {},
   "outputs": [],
   "source": [
    "数据表 =  mytools.读取SPSS数据文件 (R'data/identity.sav',True)"
   ]
  },
  {
   "cell_type": "code",
   "execution_count": 17,
   "metadata": {},
   "outputs": [
    {
     "ename": "AttributeError",
     "evalue": "module 'mytools' has no attribute 'goodmanKruska_tau_y'",
     "output_type": "error",
     "traceback": [
      "\u001b[1;31m---------------------------------------------------------------------------\u001b[0m",
      "\u001b[1;31mAttributeError\u001b[0m                            Traceback (most recent call last)",
      "\u001b[1;32mc:\\Users\\l'y'y\\Desktop\\liy7uanyuan\\13-双变量描述统计.ipynb 单元格 4\u001b[0m line \u001b[0;36m1\n\u001b[1;32m----> <a href='vscode-notebook-cell:/c%3A/Users/l%27y%27y/Desktop/liy7uanyuan/13-%E5%8F%8C%E5%8F%98%E9%87%8F%E6%8F%8F%E8%BF%B0%E7%BB%9F%E8%AE%A1.ipynb#W5sZmlsZQ%3D%3D?line=0'>1</a>\u001b[0m tau_y \u001b[39m=\u001b[39m mytools\u001b[39m.\u001b[39;49mgoodmanKruska_tau_y(数据表,\u001b[39m'\u001b[39m\u001b[39m政治面貌\u001b[39m\u001b[39m'\u001b[39m,\u001b[39m'\u001b[39m\u001b[39m发展信心\u001b[39m\u001b[39m'\u001b[39m)\n\u001b[0;32m      <a href='vscode-notebook-cell:/c%3A/Users/l%27y%27y/Desktop/liy7uanyuan/13-%E5%8F%8C%E5%8F%98%E9%87%8F%E6%8F%8F%E8%BF%B0%E7%BB%9F%E8%AE%A1.ipynb#W5sZmlsZQ%3D%3D?line=1'>2</a>\u001b[0m \u001b[39mprint\u001b[39m(tau_y)\n",
      "\u001b[1;31mAttributeError\u001b[0m: module 'mytools' has no attribute 'goodmanKruska_tau_y'"
     ]
    }
   ],
   "source": [
    "tau_y = mytools.goodmanKruska_tau_y(数据表,'政治面貌','发展信心')\n",
    "print(tau_y)"
   ]
  },
  {
   "cell_type": "code",
   "execution_count": null,
   "metadata": {},
   "outputs": [],
   "source": [
    "mytools.相关系数判断(tau_y)"
   ]
  }
 ],
 "metadata": {
  "kernelspec": {
   "display_name": "Python 3",
   "language": "python",
   "name": "python3"
  },
  "language_info": {
   "codemirror_mode": {
    "name": "ipython",
    "version": 3
   },
   "file_extension": ".py",
   "mimetype": "text/x-python",
   "name": "python",
   "nbconvert_exporter": "python",
   "pygments_lexer": "ipython3",
   "version": "3.8.10"
  }
 },
 "nbformat": 4,
 "nbformat_minor": 2
}
