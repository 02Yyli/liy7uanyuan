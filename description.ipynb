{
 "cells": [
  {
   "cell_type": "code",
   "execution_count": 96,
   "metadata": {},
   "outputs": [],
   "source": [
    "# 单变量描述统计\n",
    "\n",
    "\n",
    "##  无序类别变量描述统计\n",
    "\n",
    "\n",
    "import pandas as pd\n",
    "import matplotlib.pyplot as plt\n",
    "plt.rcParams['font.sans-serif']=['SimHei'] #设置字体\n",
    "df = pd.read_spss(R'data/identity.sav')"
   ]
  },
  {
   "cell_type": "code",
   "execution_count": 97,
   "metadata": {},
   "outputs": [
    {
     "data": {
      "text/plain": [
       "民族\n",
       "汉族      0.424277\n",
       "回族      0.152601\n",
       "藏族      0.057803\n",
       "蒙古族     0.057803\n",
       "壮族      0.054335\n",
       "土家族     0.053179\n",
       "维吾尔族    0.053179\n",
       "苗族      0.039306\n",
       "彝族      0.017341\n",
       "白族      0.017341\n",
       "满族      0.012717\n",
       "哈萨克族    0.011561\n",
       "瑶族      0.009249\n",
       "布依族     0.008092\n",
       "侗族      0.005780\n",
       "东乡族     0.004624\n",
       "黎族      0.003468\n",
       "哈尼族     0.003468\n",
       "水族      0.002312\n",
       "仫佬族     0.002312\n",
       "羌族      0.002312\n",
       "畲族      0.001156\n",
       "土族      0.001156\n",
       "其他      0.001156\n",
       "保安族     0.001156\n",
       "裕固族     0.001156\n",
       "毛难族     0.001156\n",
       "Name: proportion, dtype: float64"
      ]
     },
     "execution_count": 97,
     "metadata": {},
     "output_type": "execute_result"
    }
   ],
   "source": [
    "df['民族'].value_counts(normalize=True)"
   ]
  },
  {
   "cell_type": "code",
   "execution_count": 98,
   "metadata": {},
   "outputs": [
    {
     "data": {
      "image/png": "[encoded data removed]",
      "text/plain": [
       "<Figure size 640x480 with 1 Axes>"
      ]
     },
     "metadata": {},
     "output_type": "display_data"
    }
   ],
   "source": [
    "x = df['政治面貌'].value_counts().index\n",
    "y = df['政治面貌'].value_counts(normalize=True).values * 100\n",
    "fig, ax2 = plt.subplots()\n",
    "labels = df['政治面貌'].value_counts().index\n",
    "ax2.pie(y, autopct='%1.1f%%', labels=labels, textprops=dict(color=\"w\"))\n",
    "plt.show()"
   ]
  },
  {
   "cell_type": "code",
   "execution_count": 99,
   "metadata": {},
   "outputs": [
    {
     "data": {
      "text/plain": [
       "年级\n",
       "大一    307\n",
       "大二    278\n",
       "大三    172\n",
       "大四     94\n",
       "预科     14\n",
       "Name: count, dtype: int64"
      ]
     },
     "execution_count": 99,
     "metadata": {},
     "output_type": "execute_result"
    }
   ],
   "source": [
    "# 有序定类变量描述统计，可增加累计次数和累计比例的统计。可采用饼图或柱状图进行可视化\n",
    "df['年级'].value_counts()"
   ]
  },
  {
   "cell_type": "code",
   "execution_count": 100,
   "metadata": {},
   "outputs": [],
   "source": [
    "from pyreadstat import pyreadstat\n",
    "\n",
    "\n",
    "国家认同调查数据表, metadata = pyreadstat.read_sav(R'data\\identity.sav',formats_as_ordered_category=True)\n",
    "result = 国家认同调查数据表['会打多少分'].value_counts(sort=False)"
   ]
  },
  {
   "cell_type": "code",
   "execution_count": 101,
   "metadata": {},
   "outputs": [
    {
     "data": {
      "text/plain": [
       "年级\n",
       "大一    307\n",
       "大三    172\n",
       "大二    278\n",
       "大四     94\n",
       "预科     14\n",
       "Name: count, dtype: int64"
      ]
     },
     "execution_count": 101,
     "metadata": {},
     "output_type": "execute_result"
    }
   ],
   "source": [
    "df['年级'].value_counts(sort=False)"
   ]
  },
  {
   "cell_type": "code",
   "execution_count": 102,
   "metadata": {},
   "outputs": [],
   "source": [
    "result = 国家认同调查数据表['年级'].value_counts(sort=False)\n",
    "df_result = pd.DataFrame(result)\n",
    "df_result['累计求和'] = df_result['count'].cumsum()\n",
    "df_result['新变量1'] = 1\n",
    "df_result['新变量2'] = df_result.新变量1 + 1\n",
    "df_result['比例'] = 国家认同调查数据表['年级'].value_counts(normalize=True)\n",
    "df_result['累计比例'] = 国家认同调查数据表['年级'].value_counts(normalize=True)"
   ]
  },
  {
   "cell_type": "code",
   "execution_count": 103,
   "metadata": {},
   "outputs": [
    {
     "data": {
      "text/html": [
       "<div>\n",
       "<style scoped>\n",
       "    .dataframe tbody tr th:only-of-type {\n",
       "        vertical-align: middle;\n",
       "    }\n",
       "\n",
       "    .dataframe tbody tr th {\n",
       "        vertical-align: top;\n",
       "    }\n",
       "\n",
       "    .dataframe thead th {\n",
       "        text-align: right;\n",
       "    }\n",
       "</style>\n",
       "<table border=\"1\" class=\"dataframe\">\n",
       "  <thead>\n",
       "    <tr style=\"text-align: right;\">\n",
       "      <th></th>\n",
       "      <th>count</th>\n",
       "      <th>累计求和</th>\n",
       "      <th>新变量1</th>\n",
       "      <th>新变量2</th>\n",
       "      <th>比例</th>\n",
       "      <th>累计比例</th>\n",
       "    </tr>\n",
       "    <tr>\n",
       "      <th>年级</th>\n",
       "      <th></th>\n",
       "      <th></th>\n",
       "      <th></th>\n",
       "      <th></th>\n",
       "      <th></th>\n",
       "      <th></th>\n",
       "    </tr>\n",
       "  </thead>\n",
       "  <tbody>\n",
       "    <tr>\n",
       "      <th>2.0</th>\n",
       "      <td>278</td>\n",
       "      <td>278</td>\n",
       "      <td>1</td>\n",
       "      <td>2</td>\n",
       "      <td>0.321387</td>\n",
       "      <td>0.321387</td>\n",
       "    </tr>\n",
       "    <tr>\n",
       "      <th>4.0</th>\n",
       "      <td>94</td>\n",
       "      <td>372</td>\n",
       "      <td>1</td>\n",
       "      <td>2</td>\n",
       "      <td>0.108671</td>\n",
       "      <td>0.108671</td>\n",
       "    </tr>\n",
       "    <tr>\n",
       "      <th>3.0</th>\n",
       "      <td>172</td>\n",
       "      <td>544</td>\n",
       "      <td>1</td>\n",
       "      <td>2</td>\n",
       "      <td>0.198844</td>\n",
       "      <td>0.198844</td>\n",
       "    </tr>\n",
       "    <tr>\n",
       "      <th>1.0</th>\n",
       "      <td>307</td>\n",
       "      <td>851</td>\n",
       "      <td>1</td>\n",
       "      <td>2</td>\n",
       "      <td>0.354913</td>\n",
       "      <td>0.354913</td>\n",
       "    </tr>\n",
       "    <tr>\n",
       "      <th>0.0</th>\n",
       "      <td>14</td>\n",
       "      <td>865</td>\n",
       "      <td>1</td>\n",
       "      <td>2</td>\n",
       "      <td>0.016185</td>\n",
       "      <td>0.016185</td>\n",
       "    </tr>\n",
       "  </tbody>\n",
       "</table>\n",
       "</div>"
      ],
      "text/plain": [
       "     count  累计求和  新变量1  新变量2        比例      累计比例\n",
       "年级                                              \n",
       "2.0    278   278     1     2  0.321387  0.321387\n",
       "4.0     94   372     1     2  0.108671  0.108671\n",
       "3.0    172   544     1     2  0.198844  0.198844\n",
       "1.0    307   851     1     2  0.354913  0.354913\n",
       "0.0     14   865     1     2  0.016185  0.016185"
      ]
     },
     "execution_count": 103,
     "metadata": {},
     "output_type": "execute_result"
    }
   ],
   "source": [
    "df_result"
   ]
  },
  {
   "cell_type": "code",
   "execution_count": 104,
   "metadata": {},
   "outputs": [
    {
     "data": {
      "image/png": "[encoded data removed]",
      "text/plain": [
       "<Figure size 640x480 with 1 Axes>"
      ]
     },
     "metadata": {},
     "output_type": "display_data"
    }
   ],
   "source": [
    "x = df_result.index\n",
    "y = df_result['count'].values\n",
    "fig, ax2 = plt.subplots()\n",
    "labels = df['政治面貌'].value_counts().index\n",
    "ax2.bar(x,y)\n",
    "plt.show()"
   ]
  },
  {
   "cell_type": "code",
   "execution_count": 105,
   "metadata": {},
   "outputs": [
    {
     "data": {
      "text/html": [
       "<div>\n",
       "<style scoped>\n",
       "    .dataframe tbody tr th:only-of-type {\n",
       "        vertical-align: middle;\n",
       "    }\n",
       "\n",
       "    .dataframe tbody tr th {\n",
       "        vertical-align: top;\n",
       "    }\n",
       "\n",
       "    .dataframe thead th {\n",
       "        text-align: right;\n",
       "    }\n",
       "</style>\n",
       "<table border=\"1\" class=\"dataframe\">\n",
       "  <thead>\n",
       "    <tr style=\"text-align: right;\">\n",
       "      <th></th>\n",
       "      <th>count</th>\n",
       "      <th>比例</th>\n",
       "      <th>累计比例</th>\n",
       "    </tr>\n",
       "    <tr>\n",
       "      <th>年级</th>\n",
       "      <th></th>\n",
       "      <th></th>\n",
       "      <th></th>\n",
       "    </tr>\n",
       "  </thead>\n",
       "  <tbody>\n",
       "    <tr>\n",
       "      <th>2.0</th>\n",
       "      <td>278</td>\n",
       "      <td>0.321387</td>\n",
       "      <td>0.321387</td>\n",
       "    </tr>\n",
       "    <tr>\n",
       "      <th>4.0</th>\n",
       "      <td>94</td>\n",
       "      <td>0.108671</td>\n",
       "      <td>0.430058</td>\n",
       "    </tr>\n",
       "    <tr>\n",
       "      <th>3.0</th>\n",
       "      <td>172</td>\n",
       "      <td>0.198844</td>\n",
       "      <td>0.628902</td>\n",
       "    </tr>\n",
       "    <tr>\n",
       "      <th>1.0</th>\n",
       "      <td>307</td>\n",
       "      <td>0.354913</td>\n",
       "      <td>0.983815</td>\n",
       "    </tr>\n",
       "    <tr>\n",
       "      <th>0.0</th>\n",
       "      <td>14</td>\n",
       "      <td>0.016185</td>\n",
       "      <td>1.000000</td>\n",
       "    </tr>\n",
       "  </tbody>\n",
       "</table>\n",
       "</div>"
      ],
      "text/plain": [
       "     count        比例      累计比例\n",
       "年级                            \n",
       "2.0    278  0.321387  0.321387\n",
       "4.0     94  0.108671  0.430058\n",
       "3.0    172  0.198844  0.628902\n",
       "1.0    307  0.354913  0.983815\n",
       "0.0     14  0.016185  1.000000"
      ]
     },
     "execution_count": 105,
     "metadata": {},
     "output_type": "execute_result"
    }
   ],
   "source": [
    "import mytools\n",
    "描述统计结果表 = mytools.有序变量描述统计函数(国家认同调查数据表,'年级')\n",
    "描述统计结果表"
   ]
  },
  {
   "cell_type": "code",
   "execution_count": 106,
   "metadata": {},
   "outputs": [
    {
     "data": {
      "image/png": "[encoded data removed]",
      "text/plain": [
       "<Figure size 640x480 with 1 Axes>"
      ]
     },
     "metadata": {},
     "output_type": "display_data"
    }
   ],
   "source": [
    "mytools.绘制直方图(描述统计结果表)"
   ]
  },
  {
   "cell_type": "code",
   "execution_count": 107,
   "metadata": {},
   "outputs": [
    {
     "data": {
      "text/html": [
       "<div>\n",
       "<style scoped>\n",
       "    .dataframe tbody tr th:only-of-type {\n",
       "        vertical-align: middle;\n",
       "    }\n",
       "\n",
       "    .dataframe tbody tr th {\n",
       "        vertical-align: top;\n",
       "    }\n",
       "\n",
       "    .dataframe thead th {\n",
       "        text-align: right;\n",
       "    }\n",
       "</style>\n",
       "<table border=\"1\" class=\"dataframe\">\n",
       "  <thead>\n",
       "    <tr style=\"text-align: right;\">\n",
       "      <th></th>\n",
       "      <th>count</th>\n",
       "      <th>比例</th>\n",
       "      <th>累计比例</th>\n",
       "    </tr>\n",
       "    <tr>\n",
       "      <th>您觉得中国怎么样</th>\n",
       "      <th></th>\n",
       "      <th></th>\n",
       "      <th></th>\n",
       "    </tr>\n",
       "  </thead>\n",
       "  <tbody>\n",
       "    <tr>\n",
       "      <th>3.0</th>\n",
       "      <td>197</td>\n",
       "      <td>0.227746</td>\n",
       "      <td>0.227746</td>\n",
       "    </tr>\n",
       "    <tr>\n",
       "      <th>4.0</th>\n",
       "      <td>474</td>\n",
       "      <td>0.547977</td>\n",
       "      <td>0.775723</td>\n",
       "    </tr>\n",
       "    <tr>\n",
       "      <th>5.0</th>\n",
       "      <td>141</td>\n",
       "      <td>0.163006</td>\n",
       "      <td>0.938728</td>\n",
       "    </tr>\n",
       "    <tr>\n",
       "      <th>2.0</th>\n",
       "      <td>38</td>\n",
       "      <td>0.043931</td>\n",
       "      <td>0.982659</td>\n",
       "    </tr>\n",
       "    <tr>\n",
       "      <th>1.0</th>\n",
       "      <td>15</td>\n",
       "      <td>0.017341</td>\n",
       "      <td>1.000000</td>\n",
       "    </tr>\n",
       "  </tbody>\n",
       "</table>\n",
       "</div>"
      ],
      "text/plain": [
       "          count        比例      累计比例\n",
       "您觉得中国怎么样                           \n",
       "3.0         197  0.227746  0.227746\n",
       "4.0         474  0.547977  0.775723\n",
       "5.0         141  0.163006  0.938728\n",
       "2.0          38  0.043931  0.982659\n",
       "1.0          15  0.017341  1.000000"
      ]
     },
     "execution_count": 107,
     "metadata": {},
     "output_type": "execute_result"
    }
   ],
   "source": [
    "描述统计结果表 = mytools.有序变量描述统计函数(国家认同调查数据表,'您觉得中国怎么样')\n",
    "描述统计结果表"
   ]
  }
 ],
 "metadata": {
  "kernelspec": {
   "display_name": "Python 3",
   "language": "python",
   "name": "python3"
  },
  "language_info": {
   "codemirror_mode": {
    "name": "ipython",
    "version": 3
   },
   "file_extension": ".py",
   "mimetype": "text/x-python",
   "name": "python",
   "nbconvert_exporter": "python",
   "pygments_lexer": "ipython3",
   "version": "3.8.10"
  }
 },
 "nbformat": 4,
 "nbformat_minor": 2
}
