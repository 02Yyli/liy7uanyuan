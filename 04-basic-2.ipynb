{
 "cells": [
  {
   "cell_type": "code",
   "execution_count": 12,
   "metadata": {},
   "outputs": [],
   "source": [
    "student_list=[\n",
    "{'姓名': '王婷', '学号': '20230002', 'github仓库地址': 'https://github.com/wangting'},\n",
    "{'姓名': '李明', '学号': '20230003', 'github仓库地址': 'https://github.com/liming'},\n",
    "{'姓名': '赵大', '学号': '20230004', 'github仓库地址': 'https://github.com/zhaodan'},\n",
    "{'姓名': '孙小', '学号': '20230005', 'github仓库地址': 'https://github.com/sunxiao'},\n",
    "{'姓名': '周刚', '学号': '20230006', 'github仓库地址': 'https://github.com/zhougang'},\n",
    "{'姓名': '吴慧', '学号': '20230007', 'github仓库地址': 'https://github.com/wuhui'},\n",
    "{'姓名': '郑勇', '学号': '20230008', 'github仓库地址': 'https://github.com/zhengyong'},\n",
    "{'姓名': '谢华', '学号': '20230009', 'github仓库地址': 'https://github.com/xiehua'},\n",
    "{'姓名': '韩萍', '学号': '20230010', 'github仓库地址': 'https://github.com/hanping'}\n",
    "]"
   ]
  },
  {
   "cell_type": "code",
   "execution_count": 13,
   "metadata": {},
   "outputs": [
    {
     "name": "stdout",
     "output_type": "stream",
     "text": [
      "['https://github.com/hanping']\n"
     ]
    }
   ],
   "source": [
    "target_name='韩萍' # 指定要筛选的姓名\n",
    "target_github_urls=[] # 用于存储找到的github仓库地址\n",
    "\n",
    "for student in student_list:\n",
    "    if student['姓名']==target_name:\n",
    "        target_github_urls.append(student['github仓库地址'])\n",
    "\n",
    "print(target_github_urls)"
   ]
  },
  {
   "cell_type": "code",
   "execution_count": 16,
   "metadata": {},
   "outputs": [],
   "source": [
    "def get_repo_by_name(name,data=student_list):\n",
    "    for i in data:\n",
    "        if i['姓名']==name:\n",
    "            print(i['github仓库地址'])"
   ]
  },
  {
   "cell_type": "code",
   "execution_count": 19,
   "metadata": {},
   "outputs": [
    {
     "name": "stdout",
     "output_type": "stream",
     "text": [
      "https://github.com/hanping\n"
     ]
    }
   ],
   "source": [
    "get_repo_by_name('韩萍',student_list)"
   ]
  },
  {
   "cell_type": "code",
   "execution_count": 20,
   "metadata": {},
   "outputs": [
    {
     "name": "stdout",
     "output_type": "stream",
     "text": [
      "https://github.com/hanping\n"
     ]
    }
   ],
   "source": [
    "get_repo_by_name(name='韩萍',data=student_list)"
   ]
  },
  {
   "cell_type": "code",
   "execution_count": 21,
   "metadata": {},
   "outputs": [],
   "source": [
    "def get_repo_by_name2(name,data):\n",
    "    for i in data:\n",
    "        if i['姓名']==name:\n",
    "            return i['github仓库地址']\n",
    "    "
   ]
  },
  {
   "cell_type": "code",
   "execution_count": 22,
   "metadata": {},
   "outputs": [
    {
     "name": "stdout",
     "output_type": "stream",
     "text": [
      "https://github.com/hanping\n"
     ]
    }
   ],
   "source": [
    "print(get_repo_by_name2('韩萍',student_list))"
   ]
  }
 ],
 "metadata": {
  "kernelspec": {
   "display_name": "Python 3",
   "language": "python",
   "name": "python3"
  },
  "language_info": {
   "codemirror_mode": {
    "name": "ipython",
    "version": 3
   },
   "file_extension": ".py",
   "mimetype": "text/x-python",
   "name": "python",
   "nbconvert_exporter": "python",
   "pygments_lexer": "ipython3",
   "version": "3.8.10"
  },
  "orig_nbformat": 4
 },
 "nbformat": 4,
 "nbformat_minor": 2
}
