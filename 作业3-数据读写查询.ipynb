{
 "cells": [
  {
   "cell_type": "code",
   "execution_count": 63,
   "metadata": {},
   "outputs": [],
   "source": [
    "import pandas as pd"
   ]
  },
  {
   "cell_type": "code",
   "execution_count": 64,
   "metadata": {},
   "outputs": [],
   "source": [
    "作业提交信息 = pd.read_csv(R'data\\课程第一次作业收集.csv',encoding=\"GBK\",usecols=['姓名','学号','Github仓库地址'])"
   ]
  },
  {
   "cell_type": "code",
   "execution_count": 65,
   "metadata": {},
   "outputs": [],
   "source": [
    "作业提交信息.to_csv(R'output\\csv读写结果.csv',index=False)"
   ]
  },
  {
   "cell_type": "code",
   "execution_count": 66,
   "metadata": {},
   "outputs": [],
   "source": [
    "#读写Excel文件\n",
    "原始数据=R'data\\000_《统计与数据分析》课程第一次作业收集_提交统计.xlsx'\n",
    "工作表='提交清单'#替换为你要读取的工作表名称\n",
    "列名列表=['姓名','学号','Github仓库地址'] # 替换为你要读取的列名列表\n",
    "\n",
    "# 读取指定列表数据\n",
    "df1=pd.read_excel(原始数据,sheet_name=工作表,usecols=列名列表)"
   ]
  },
  {
   "cell_type": "code",
   "execution_count": 67,
   "metadata": {},
   "outputs": [],
   "source": [
    "df1.to_excel('output/excel写入练习.xlsx',index=False)"
   ]
  },
  {
   "cell_type": "code",
   "execution_count": 70,
   "metadata": {},
   "outputs": [
    {
     "ename": "ImportError",
     "evalue": "Missing optional dependency 'pyreadstat'.  Use pip or conda to install pyreadstat.",
     "output_type": "error",
     "traceback": [
      "\u001b[1;31m---------------------------------------------------------------------------\u001b[0m",
      "\u001b[1;31mModuleNotFoundError\u001b[0m                       Traceback (most recent call last)",
      "File \u001b[1;32m~\\AppData\\Roaming\\Python\\Python38\\site-packages\\pandas\\compat\\_optional.py:142\u001b[0m, in \u001b[0;36mimport_optional_dependency\u001b[1;34m(name, extra, errors, min_version)\u001b[0m\n\u001b[0;32m    141\u001b[0m \u001b[39mtry\u001b[39;00m:\n\u001b[1;32m--> 142\u001b[0m     module \u001b[39m=\u001b[39m importlib\u001b[39m.\u001b[39;49mimport_module(name)\n\u001b[0;32m    143\u001b[0m \u001b[39mexcept\u001b[39;00m \u001b[39mImportError\u001b[39;00m:\n",
      "File \u001b[1;32mc:\\Program Files\\Python38\\lib\\importlib\\__init__.py:127\u001b[0m, in \u001b[0;36mimport_module\u001b[1;34m(name, package)\u001b[0m\n\u001b[0;32m    126\u001b[0m         level \u001b[39m+\u001b[39m\u001b[39m=\u001b[39m \u001b[39m1\u001b[39m\n\u001b[1;32m--> 127\u001b[0m \u001b[39mreturn\u001b[39;00m _bootstrap\u001b[39m.\u001b[39;49m_gcd_import(name[level:], package, level)\n",
      "File \u001b[1;32m<frozen importlib._bootstrap>:1014\u001b[0m, in \u001b[0;36m_gcd_import\u001b[1;34m(name, package, level)\u001b[0m\n",
      "File \u001b[1;32m<frozen importlib._bootstrap>:991\u001b[0m, in \u001b[0;36m_find_and_load\u001b[1;34m(name, import_)\u001b[0m\n",
      "File \u001b[1;32m<frozen importlib._bootstrap>:973\u001b[0m, in \u001b[0;36m_find_and_load_unlocked\u001b[1;34m(name, import_)\u001b[0m\n",
      "\u001b[1;31mModuleNotFoundError\u001b[0m: No module named 'pyreadstat'",
      "\nDuring handling of the above exception, another exception occurred:\n",
      "\u001b[1;31mImportError\u001b[0m                               Traceback (most recent call last)",
      "\u001b[1;32mc:\\Users\\l'y'y\\Desktop\\liy7uanyuan\\作业3-数据读写查询.ipynb 单元格 6\u001b[0m line \u001b[0;36m2\n\u001b[0;32m      <a href='vscode-notebook-cell:/c%3A/Users/l%27y%27y/Desktop/liy7uanyuan/%E4%BD%9C%E4%B8%9A3-%E6%95%B0%E6%8D%AE%E8%AF%BB%E5%86%99%E6%9F%A5%E8%AF%A2.ipynb#X10sZmlsZQ%3D%3D?line=0'>1</a>\u001b[0m \u001b[39m# 读写SPSS的sav格式数据\u001b[39;00m\n\u001b[1;32m----> <a href='vscode-notebook-cell:/c%3A/Users/l%27y%27y/Desktop/liy7uanyuan/%E4%BD%9C%E4%B8%9A3-%E6%95%B0%E6%8D%AE%E8%AF%BB%E5%86%99%E6%9F%A5%E8%AF%A2.ipynb#X10sZmlsZQ%3D%3D?line=1'>2</a>\u001b[0m df2 \u001b[39m=\u001b[39m pd\u001b[39m.\u001b[39;49mread_spss(\u001b[39mR\u001b[39;49m\u001b[39m'\u001b[39;49m\u001b[39mdata\u001b[39;49m\u001b[39m\\\u001b[39;49m\u001b[39midentity.sav\u001b[39;49m\u001b[39m'\u001b[39;49m)\n",
      "File \u001b[1;32m~\\AppData\\Roaming\\Python\\Python38\\site-packages\\pandas\\io\\spss.py:54\u001b[0m, in \u001b[0;36mread_spss\u001b[1;34m(path, usecols, convert_categoricals, dtype_backend)\u001b[0m\n\u001b[0;32m     23\u001b[0m \u001b[39mdef\u001b[39;00m \u001b[39mread_spss\u001b[39m(\n\u001b[0;32m     24\u001b[0m     path: \u001b[39mstr\u001b[39m \u001b[39m|\u001b[39m Path,\n\u001b[0;32m     25\u001b[0m     usecols: Sequence[\u001b[39mstr\u001b[39m] \u001b[39m|\u001b[39m \u001b[39mNone\u001b[39;00m \u001b[39m=\u001b[39m \u001b[39mNone\u001b[39;00m,\n\u001b[0;32m     26\u001b[0m     convert_categoricals: \u001b[39mbool\u001b[39m \u001b[39m=\u001b[39m \u001b[39mTrue\u001b[39;00m,\n\u001b[0;32m     27\u001b[0m     dtype_backend: DtypeBackend \u001b[39m|\u001b[39m lib\u001b[39m.\u001b[39mNoDefault \u001b[39m=\u001b[39m lib\u001b[39m.\u001b[39mno_default,\n\u001b[0;32m     28\u001b[0m ) \u001b[39m-\u001b[39m\u001b[39m>\u001b[39m DataFrame:\n\u001b[0;32m     29\u001b[0m \u001b[39m    \u001b[39m\u001b[39m\"\"\"\u001b[39;00m\n\u001b[0;32m     30\u001b[0m \u001b[39m    Load an SPSS file from the file path, returning a DataFrame.\u001b[39;00m\n\u001b[0;32m     31\u001b[0m \n\u001b[1;32m   (...)\u001b[0m\n\u001b[0;32m     52\u001b[0m \u001b[39m    DataFrame\u001b[39;00m\n\u001b[0;32m     53\u001b[0m \u001b[39m    \"\"\"\u001b[39;00m\n\u001b[1;32m---> 54\u001b[0m     pyreadstat \u001b[39m=\u001b[39m import_optional_dependency(\u001b[39m\"\u001b[39;49m\u001b[39mpyreadstat\u001b[39;49m\u001b[39m\"\u001b[39;49m)\n\u001b[0;32m     55\u001b[0m     check_dtype_backend(dtype_backend)\n\u001b[0;32m     57\u001b[0m     \u001b[39mif\u001b[39;00m usecols \u001b[39mis\u001b[39;00m \u001b[39mnot\u001b[39;00m \u001b[39mNone\u001b[39;00m:\n",
      "File \u001b[1;32m~\\AppData\\Roaming\\Python\\Python38\\site-packages\\pandas\\compat\\_optional.py:145\u001b[0m, in \u001b[0;36mimport_optional_dependency\u001b[1;34m(name, extra, errors, min_version)\u001b[0m\n\u001b[0;32m    143\u001b[0m \u001b[39mexcept\u001b[39;00m \u001b[39mImportError\u001b[39;00m:\n\u001b[0;32m    144\u001b[0m     \u001b[39mif\u001b[39;00m errors \u001b[39m==\u001b[39m \u001b[39m\"\u001b[39m\u001b[39mraise\u001b[39m\u001b[39m\"\u001b[39m:\n\u001b[1;32m--> 145\u001b[0m         \u001b[39mraise\u001b[39;00m \u001b[39mImportError\u001b[39;00m(msg)\n\u001b[0;32m    146\u001b[0m     \u001b[39mreturn\u001b[39;00m \u001b[39mNone\u001b[39;00m\n\u001b[0;32m    148\u001b[0m \u001b[39m# Handle submodules: if we have submodule, grab parent module from sys.modules\u001b[39;00m\n",
      "\u001b[1;31mImportError\u001b[0m: Missing optional dependency 'pyreadstat'.  Use pip or conda to install pyreadstat."
     ]
    }
   ],
   "source": [
    "# 读写SPSS的sav格式数据\n",
    "df2 = pd.read_spss(R'data\\identity.sav')"
   ]
  },
  {
   "cell_type": "code",
   "execution_count": null,
   "metadata": {},
   "outputs": [
    {
     "ename": "ModuleNotFoundError",
     "evalue": "No module named 'pyreadstat'",
     "output_type": "error",
     "traceback": [
      "\u001b[1;31m---------------------------------------------------------------------------\u001b[0m",
      "\u001b[1;31mModuleNotFoundError\u001b[0m                       Traceback (most recent call last)",
      "\u001b[1;32mc:\\Users\\l'y'y\\Desktop\\liy7uanyuan\\作业3-数据读写查询.ipynb 单元格 7\u001b[0m line \u001b[0;36m1\n\u001b[1;32m----> <a href='vscode-notebook-cell:/c%3A/Users/l%27y%27y/Desktop/liy7uanyuan/%E4%BD%9C%E4%B8%9A3-%E6%95%B0%E6%8D%AE%E8%AF%BB%E5%86%99%E6%9F%A5%E8%AF%A2.ipynb#X11sZmlsZQ%3D%3D?line=0'>1</a>\u001b[0m \u001b[39mimport\u001b[39;00m \u001b[39mpyreadstat\u001b[39;00m\n",
      "\u001b[1;31mModuleNotFoundError\u001b[0m: No module named 'pyreadstat'"
     ]
    }
   ],
   "source": [
    "import pyreadstat\n"
   ]
  },
  {
   "cell_type": "code",
   "execution_count": null,
   "metadata": {},
   "outputs": [
    {
     "ename": "NameError",
     "evalue": "name 'pyreadstat' is not defined",
     "output_type": "error",
     "traceback": [
      "\u001b[1;31m---------------------------------------------------------------------------\u001b[0m",
      "\u001b[1;31mNameError\u001b[0m                                 Traceback (most recent call last)",
      "\u001b[1;32mc:\\Users\\l'y'y\\Desktop\\liy7uanyuan\\作业3-数据读写查询.ipynb 单元格 8\u001b[0m line \u001b[0;36m1\n\u001b[1;32m----> <a href='vscode-notebook-cell:/c%3A/Users/l%27y%27y/Desktop/liy7uanyuan/%E4%BD%9C%E4%B8%9A3-%E6%95%B0%E6%8D%AE%E8%AF%BB%E5%86%99%E6%9F%A5%E8%AF%A2.ipynb#X12sZmlsZQ%3D%3D?line=0'>1</a>\u001b[0m df3,mata\u001b[39m=\u001b[39mpyreadstat\u001b[39m.\u001b[39mread_sav(\u001b[39m'\u001b[39m\u001b[39mdata\u001b[39m\u001b[39m\\\u001b[39m\u001b[39midentity.sav\u001b[39m\u001b[39m'\u001b[39m,formats_as_ordered_category\u001b[39m=\u001b[39m\u001b[39mTrue\u001b[39;00m)\n",
      "\u001b[1;31mNameError\u001b[0m: name 'pyreadstat' is not defined"
     ]
    }
   ],
   "source": [
    "df3,mata=pyreadstat.read_sav('data\\identity.sav',formats_as_ordered_category=True)"
   ]
  },
  {
   "cell_type": "code",
   "execution_count": null,
   "metadata": {},
   "outputs": [],
   "source": [
    "df3.to_excel('output/sav数据zhuancun.xlsx')"
   ]
  },
  {
   "cell_type": "code",
   "execution_count": 69,
   "metadata": {},
   "outputs": [],
   "source": [
    "import pandas as pd\n",
    "# 假设这是你的数据\n",
    "data={'Columnl':['Value1','Value2','Value3'],\n",
    "      'Column2':['Value4','Value5','Value6']}\n",
    "\n",
    "# 创建一个DataFrame对象\n",
    "df3=pd.DataFrame(data)\n",
    "\n",
    "# 将DataFrame写入Excel文件\n",
    "df3.to_excel('output/sav数据zhuancun.xlsx',index=False)"
   ]
  },
  {
   "cell_type": "code",
   "execution_count": null,
   "metadata": {},
   "outputs": [
    {
     "ename": "ModuleNotFoundError",
     "evalue": "No module named 'pdfplumber'",
     "output_type": "error",
     "traceback": [
      "\u001b[1;31m---------------------------------------------------------------------------\u001b[0m",
      "\u001b[1;31mModuleNotFoundError\u001b[0m                       Traceback (most recent call last)",
      "\u001b[1;32mc:\\Users\\l'y'y\\Desktop\\liy7uanyuan\\作业3-数据读写查询.ipynb 单元格 11\u001b[0m line \u001b[0;36m2\n\u001b[0;32m      <a href='vscode-notebook-cell:/c%3A/Users/l%27y%27y/Desktop/liy7uanyuan/%E4%BD%9C%E4%B8%9A3-%E6%95%B0%E6%8D%AE%E8%AF%BB%E5%86%99%E6%9F%A5%E8%AF%A2.ipynb#X14sZmlsZQ%3D%3D?line=0'>1</a>\u001b[0m \u001b[39m#读取pdf中的表格数据\u001b[39;00m\n\u001b[1;32m----> <a href='vscode-notebook-cell:/c%3A/Users/l%27y%27y/Desktop/liy7uanyuan/%E4%BD%9C%E4%B8%9A3-%E6%95%B0%E6%8D%AE%E8%AF%BB%E5%86%99%E6%9F%A5%E8%AF%A2.ipynb#X14sZmlsZQ%3D%3D?line=1'>2</a>\u001b[0m \u001b[39mimport\u001b[39;00m \u001b[39mpdfplumber\u001b[39;00m\n\u001b[0;32m      <a href='vscode-notebook-cell:/c%3A/Users/l%27y%27y/Desktop/liy7uanyuan/%E4%BD%9C%E4%B8%9A3-%E6%95%B0%E6%8D%AE%E8%AF%BB%E5%86%99%E6%9F%A5%E8%AF%A2.ipynb#X14sZmlsZQ%3D%3D?line=3'>4</a>\u001b[0m pdf\u001b[39m=\u001b[39mpdfplumber\u001b[39m.\u001b[39mopen(\u001b[39m'\u001b[39m\u001b[39mdata\u001b[39m\u001b[39m\\\u001b[39m\u001b[39m高考核心词汇1278.pdf\u001b[39m\u001b[39m'\u001b[39m)\n\u001b[0;32m      <a href='vscode-notebook-cell:/c%3A/Users/l%27y%27y/Desktop/liy7uanyuan/%E4%BD%9C%E4%B8%9A3-%E6%95%B0%E6%8D%AE%E8%AF%BB%E5%86%99%E6%9F%A5%E8%AF%A2.ipynb#X14sZmlsZQ%3D%3D?line=5'>6</a>\u001b[0m table\u001b[39m=\u001b[39m[]\n",
      "\u001b[1;31mModuleNotFoundError\u001b[0m: No module named 'pdfplumber'"
     ]
    }
   ],
   "source": [
    "#读取pdf中的表格数据\n",
    "import pdfplumber\n",
    "\n",
    "pdf=pdfplumber.open('data\\高考核心词汇1278.pdf')\n",
    "\n",
    "table=[]\n",
    "for i in range(len(pdf.pages)-1):\n",
    "    page=pdf.pages[i+1]\n",
    "    table.extend(page.extract_table())\n",
    "table1_df=pd.DataFrame(table[2:])"
   ]
  }
 ],
 "metadata": {
  "kernelspec": {
   "display_name": "Python 3",
   "language": "python",
   "name": "python3"
  },
  "language_info": {
   "codemirror_mode": {
    "name": "ipython",
    "version": 3
   },
   "file_extension": ".py",
   "mimetype": "text/x-python",
   "name": "python",
   "nbconvert_exporter": "python",
   "pygments_lexer": "ipython3",
   "version": "3.8.10"
  },
  "orig_nbformat": 4
 },
 "nbformat": 4,
 "nbformat_minor": 2
}
